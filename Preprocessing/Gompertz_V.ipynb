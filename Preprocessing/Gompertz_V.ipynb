{
 "cells": [
  {
   "cell_type": "markdown",
   "metadata": {
    "id": "coTGQ11zGE4w"
   },
   "source": []
  },
  {
   "cell_type": "code",
   "execution_count": 88,
   "metadata": {
    "id": "1mor7uxeIn8z"
   },
   "outputs": [],
   "source": [
    "import numpy as np\n",
    "import pandas as pd\n",
    "from scipy.integrate import odeint\n",
    "from scipy.optimize import minimize\n",
    "from datetime import datetime, timedelta\n",
    "import matplotlib.pyplot as plt"
   ]
  },
  {
   "cell_type": "code",
   "execution_count": 143,
   "metadata": {
    "id": "iPwec_ti6hBt"
   },
   "outputs": [],
   "source": [
    "# importando datos\n",
    "url = 'https://raw.githubusercontent.com/CSSEGISandData/COVID-19/master/csse_covid_19_data/csse_covid_19_time_series/time_series_covid19_confirmed_global.csv'\n",
    "df = pd.read_csv(url)"
   ]
  },
  {
   "cell_type": "code",
   "execution_count": 144,
   "metadata": {
    "colab": {
     "base_uri": "https://localhost:8080/",
     "height": 423
    },
    "executionInfo": {
     "elapsed": 317,
     "status": "ok",
     "timestamp": 1678153122249,
     "user": {
      "displayName": "Keila Vasthi Cortés Martínez",
      "userId": "16319750686447703617"
     },
     "user_tz": 360
    },
    "id": "oC3uZhBg7p90",
    "outputId": "6b31721e-18f9-444f-ada3-2d56fc0a6ea0",
    "scrolled": false
   },
   "outputs": [
    {
     "data": {
      "text/html": [
       "<div>\n",
       "<style scoped>\n",
       "    .dataframe tbody tr th:only-of-type {\n",
       "        vertical-align: middle;\n",
       "    }\n",
       "\n",
       "    .dataframe tbody tr th {\n",
       "        vertical-align: top;\n",
       "    }\n",
       "\n",
       "    .dataframe thead th {\n",
       "        text-align: right;\n",
       "    }\n",
       "</style>\n",
       "<table border=\"1\" class=\"dataframe\">\n",
       "  <thead>\n",
       "    <tr style=\"text-align: right;\">\n",
       "      <th></th>\n",
       "      <th>Province/State</th>\n",
       "      <th>Country/Region</th>\n",
       "      <th>Lat</th>\n",
       "      <th>Long</th>\n",
       "      <th>1/22/20</th>\n",
       "      <th>1/23/20</th>\n",
       "      <th>1/24/20</th>\n",
       "      <th>1/25/20</th>\n",
       "      <th>1/26/20</th>\n",
       "      <th>1/27/20</th>\n",
       "      <th>...</th>\n",
       "      <th>2/25/23</th>\n",
       "      <th>2/26/23</th>\n",
       "      <th>2/27/23</th>\n",
       "      <th>2/28/23</th>\n",
       "      <th>3/1/23</th>\n",
       "      <th>3/2/23</th>\n",
       "      <th>3/3/23</th>\n",
       "      <th>3/4/23</th>\n",
       "      <th>3/5/23</th>\n",
       "      <th>3/6/23</th>\n",
       "    </tr>\n",
       "  </thead>\n",
       "  <tbody>\n",
       "    <tr>\n",
       "      <th>0</th>\n",
       "      <td>NaN</td>\n",
       "      <td>Afghanistan</td>\n",
       "      <td>33.93911</td>\n",
       "      <td>67.709953</td>\n",
       "      <td>0</td>\n",
       "      <td>0</td>\n",
       "      <td>0</td>\n",
       "      <td>0</td>\n",
       "      <td>0</td>\n",
       "      <td>0</td>\n",
       "      <td>...</td>\n",
       "      <td>209246</td>\n",
       "      <td>209274</td>\n",
       "      <td>209308</td>\n",
       "      <td>209322</td>\n",
       "      <td>209340</td>\n",
       "      <td>209358</td>\n",
       "      <td>209362</td>\n",
       "      <td>209369</td>\n",
       "      <td>209390</td>\n",
       "      <td>209406</td>\n",
       "    </tr>\n",
       "    <tr>\n",
       "      <th>1</th>\n",
       "      <td>NaN</td>\n",
       "      <td>Albania</td>\n",
       "      <td>41.15330</td>\n",
       "      <td>20.168300</td>\n",
       "      <td>0</td>\n",
       "      <td>0</td>\n",
       "      <td>0</td>\n",
       "      <td>0</td>\n",
       "      <td>0</td>\n",
       "      <td>0</td>\n",
       "      <td>...</td>\n",
       "      <td>334373</td>\n",
       "      <td>334378</td>\n",
       "      <td>334380</td>\n",
       "      <td>334391</td>\n",
       "      <td>334408</td>\n",
       "      <td>334408</td>\n",
       "      <td>334427</td>\n",
       "      <td>334427</td>\n",
       "      <td>334427</td>\n",
       "      <td>334427</td>\n",
       "    </tr>\n",
       "    <tr>\n",
       "      <th>2</th>\n",
       "      <td>NaN</td>\n",
       "      <td>Algeria</td>\n",
       "      <td>28.03390</td>\n",
       "      <td>1.659600</td>\n",
       "      <td>0</td>\n",
       "      <td>0</td>\n",
       "      <td>0</td>\n",
       "      <td>0</td>\n",
       "      <td>0</td>\n",
       "      <td>0</td>\n",
       "      <td>...</td>\n",
       "      <td>271439</td>\n",
       "      <td>271440</td>\n",
       "      <td>271440</td>\n",
       "      <td>271441</td>\n",
       "      <td>271448</td>\n",
       "      <td>271463</td>\n",
       "      <td>271469</td>\n",
       "      <td>271469</td>\n",
       "      <td>271477</td>\n",
       "      <td>271477</td>\n",
       "    </tr>\n",
       "    <tr>\n",
       "      <th>3</th>\n",
       "      <td>NaN</td>\n",
       "      <td>Andorra</td>\n",
       "      <td>42.50630</td>\n",
       "      <td>1.521800</td>\n",
       "      <td>0</td>\n",
       "      <td>0</td>\n",
       "      <td>0</td>\n",
       "      <td>0</td>\n",
       "      <td>0</td>\n",
       "      <td>0</td>\n",
       "      <td>...</td>\n",
       "      <td>47866</td>\n",
       "      <td>47866</td>\n",
       "      <td>47866</td>\n",
       "      <td>47866</td>\n",
       "      <td>47875</td>\n",
       "      <td>47875</td>\n",
       "      <td>47875</td>\n",
       "      <td>47875</td>\n",
       "      <td>47875</td>\n",
       "      <td>47875</td>\n",
       "    </tr>\n",
       "    <tr>\n",
       "      <th>4</th>\n",
       "      <td>NaN</td>\n",
       "      <td>Angola</td>\n",
       "      <td>-11.20270</td>\n",
       "      <td>17.873900</td>\n",
       "      <td>0</td>\n",
       "      <td>0</td>\n",
       "      <td>0</td>\n",
       "      <td>0</td>\n",
       "      <td>0</td>\n",
       "      <td>0</td>\n",
       "      <td>...</td>\n",
       "      <td>105205</td>\n",
       "      <td>105205</td>\n",
       "      <td>105255</td>\n",
       "      <td>105255</td>\n",
       "      <td>105277</td>\n",
       "      <td>105277</td>\n",
       "      <td>105277</td>\n",
       "      <td>105277</td>\n",
       "      <td>105277</td>\n",
       "      <td>105277</td>\n",
       "    </tr>\n",
       "  </tbody>\n",
       "</table>\n",
       "<p>5 rows × 1144 columns</p>\n",
       "</div>"
      ],
      "text/plain": [
       "  Province/State Country/Region       Lat       Long  1/22/20  1/23/20  \\\n",
       "0            NaN    Afghanistan  33.93911  67.709953        0        0   \n",
       "1            NaN        Albania  41.15330  20.168300        0        0   \n",
       "2            NaN        Algeria  28.03390   1.659600        0        0   \n",
       "3            NaN        Andorra  42.50630   1.521800        0        0   \n",
       "4            NaN         Angola -11.20270  17.873900        0        0   \n",
       "\n",
       "   1/24/20  1/25/20  1/26/20  1/27/20  ...  2/25/23  2/26/23  2/27/23  \\\n",
       "0        0        0        0        0  ...   209246   209274   209308   \n",
       "1        0        0        0        0  ...   334373   334378   334380   \n",
       "2        0        0        0        0  ...   271439   271440   271440   \n",
       "3        0        0        0        0  ...    47866    47866    47866   \n",
       "4        0        0        0        0  ...   105205   105205   105255   \n",
       "\n",
       "   2/28/23  3/1/23  3/2/23  3/3/23  3/4/23  3/5/23  3/6/23  \n",
       "0   209322  209340  209358  209362  209369  209390  209406  \n",
       "1   334391  334408  334408  334427  334427  334427  334427  \n",
       "2   271441  271448  271463  271469  271469  271477  271477  \n",
       "3    47866   47875   47875   47875   47875   47875   47875  \n",
       "4   105255  105277  105277  105277  105277  105277  105277  \n",
       "\n",
       "[5 rows x 1144 columns]"
      ]
     },
     "execution_count": 144,
     "metadata": {},
     "output_type": "execute_result"
    }
   ],
   "source": [
    "df.head()"
   ]
  },
  {
   "cell_type": "code",
   "execution_count": 145,
   "metadata": {},
   "outputs": [
    {
     "data": {
      "text/plain": [
       "datetime.datetime"
      ]
     },
     "execution_count": 145,
     "metadata": {},
     "output_type": "execute_result"
    }
   ],
   "source": [
    "dates = df.columns[4:]\n",
    "np.array([datetime.strptime(date, '%m/%d/%y') for date in dates])\n",
    "day_since = np.array([datetime.strptime(date, '%m/%d/%y') for date in dates])\n",
    "\n",
    "day_zero = day_since[0]\n",
    "day_zero\n",
    "datetime"
   ]
  },
  {
   "cell_type": "markdown",
   "metadata": {
    "id": "La0Wt0z8LTmr"
   },
   "source": [
    "*** MODELO SEIR ***\n",
    "Estableciendo parámetros iniciales de las ecuaciones diferenciales"
   ]
  },
  {
   "cell_type": "code",
   "execution_count": 146,
   "metadata": {
    "id": "UG-SfJFnLcvP"
   },
   "outputs": [],
   "source": [
    "#Fechas\n",
    "dates = df.columns[4:]\n",
    "ydata = np.array(df.iloc[:,4:].sum(axis = 0))\n",
    "xdata = np.arange(len(dates))\n",
    "day_since = np.array([datetime.strptime(date, '%m/%d/%y') for date in dates])\n",
    "day_zero = day_since[0] #datetime.datetime(2020, 1, 22, 0, 0)\n",
    "\n",
    "# Parámetros iniciales\n",
    "N = 7_000_000_000  # población mundial\n",
    "E0 = 1  # número inicial de personas expuestas\n",
    "I0 = 1  # número inicial de personas infectadas\n",
    "R0 = 0  # número inicial de personas recuperadas\n",
    "S0 = N - E0 - I0 - R0  # número inicial de personas susceptibles\n",
    "\n",
    "# Ecuaciones diferenciales del modelo SEIR\n",
    "def deriv(y, t, N, beta, gamma, sigma):\n",
    "    S, E, I, R = y\n",
    "    dSdt = -beta * S * I / N\n",
    "    dEdt = beta * S * I / N - sigma * E\n",
    "    dIdt = sigma * E - gamma * I\n",
    "    dRdt = gamma * I\n",
    "    return dSdt, dEdt, dIdt, dRdt"
   ]
  },
  {
   "cell_type": "markdown",
   "metadata": {
    "id": "PSs088DGLig5"
   },
   "source": [
    "Ajustando el modelo SEIR a los datos utilizando el método de mínimos cuadrados"
   ]
  },
  {
   "cell_type": "code",
   "execution_count": 183,
   "metadata": {
    "id": "h_R7KlOELk4D"
   },
   "outputs": [],
   "source": [
    "# ajustar el modelo SEIR a los datos utilizando el método de mínimos cuadrados\n",
    "def seir_model(params):\n",
    "    beta, gamma, sigma = params\n",
    "    y0 = S0, E0, I0, R0\n",
    "    ret = odeint(deriv, y0, xdata, args=(N, beta, gamma, sigma))\n",
    "    return ret.T[2]  # sólo devolver el número de infectados\n",
    "\n",
    "def gompertz_model(params):\n",
    "    a, b, c = params\n",
    "    y_pred = a * np.exp(-b * np.exp(-c * xdata))\n",
    "    return y_pred\n",
    "\n",
    "def objective(params):\n",
    "    seir_pred = seir_model(params[:3])\n",
    "    gompertz_pred = gompertz_model(params[3:])\n",
    "    pred = seir_pred * gompertz_pred\n",
    "    return np.mean((pred - ydata) ** 2)\n",
    "\n",
    "params0 = [0.1, 0.1, 0.1, 5000, 0.01, 0.01]  # valores iniciales de los parámetros\n",
    "result = minimize(objective, params0, method='Nelder-Mead')\n"
   ]
  },
  {
   "cell_type": "code",
   "execution_count": 177,
   "metadata": {},
   "outputs": [],
   "source": [
    "def seir_model(params):\n",
    "    beta, gamma, sigma = params\n",
    "    y0 = S0, E0, I0, R0\n",
    "    ret = odeint(deriv, y0, xdata, args=(N, beta, gamma, sigma))\n",
    "    return ret.T[2]  # sólo devolver el número de infectados"
   ]
  },
  {
   "cell_type": "code",
   "execution_count": 178,
   "metadata": {},
   "outputs": [
    {
     "data": {
      "text/plain": [
       "21690.275717850356"
      ]
     },
     "execution_count": 178,
     "metadata": {},
     "output_type": "execute_result"
    }
   ],
   "source": [
    "seir_model(result.x[:3])[-1]"
   ]
  },
  {
   "cell_type": "markdown",
   "metadata": {
    "id": "N-OB-FfyLn4a"
   },
   "source": [
    "*** GRÁFICA ***"
   ]
  },
  {
   "cell_type": "code",
   "execution_count": 148,
   "metadata": {
    "id": "4tCWoW9EL4HB"
   },
   "outputs": [],
   "source": [
    "# graficar los resultados de la predicción\n",
    "beta, gamma, sigma, a, b, c = result.x\n",
    "y0 = S0, E0, I0, R0\n",
    "ret = odeint(deriv, y0, np.arange(len(dates)), args=(N, beta, gamma, sigma))\n",
    "S, E, I, R = ret.T"
   ]
  },
  {
   "cell_type": "code",
   "execution_count": 149,
   "metadata": {
    "colab": {
     "base_uri": "https://localhost:8080/"
    },
    "executionInfo": {
     "elapsed": 306,
     "status": "ok",
     "timestamp": 1678153143773,
     "user": {
      "displayName": "Keila Vasthi Cortés Martínez",
      "userId": "16319750686447703617"
     },
     "user_tz": 360
    },
    "id": "OP-UhnR7MNo_",
    "outputId": "5e49bca7-4231-454e-e6ef-e4400202f84b"
   },
   "outputs": [
    {
     "data": {
      "text/plain": [
       "array([   0,    1,    2, ..., 1167, 1168, 1169])"
      ]
     },
     "execution_count": 149,
     "metadata": {},
     "output_type": "execute_result"
    }
   ],
   "source": [
    "#calcular la predicción con el modelode Gompertz\n",
    "pred_x = np.arange(len(dates) + 30)\n",
    "pred_x"
   ]
  },
  {
   "cell_type": "code",
   "execution_count": 150,
   "metadata": {
    "colab": {
     "base_uri": "https://localhost:8080/"
    },
    "executionInfo": {
     "elapsed": 387,
     "status": "ok",
     "timestamp": 1678153146956,
     "user": {
      "displayName": "Keila Vasthi Cortés Martínez",
      "userId": "16319750686447703617"
     },
     "user_tz": 360
    },
    "id": "ejuS0P7WSWJw",
    "outputId": "39b95bf8-821d-4b5a-b842-c5f39ce7e282"
   },
   "outputs": [
    {
     "data": {
      "text/plain": [
       "array([   0,    1,    2, ..., 1167, 1168, 1169])"
      ]
     },
     "execution_count": 150,
     "metadata": {},
     "output_type": "execute_result"
    }
   ],
   "source": [
    "days = pred_x\n",
    "days"
   ]
  },
  {
   "cell_type": "code",
   "execution_count": 151,
   "metadata": {
    "colab": {
     "base_uri": "https://localhost:8080/"
    },
    "executionInfo": {
     "elapsed": 310,
     "status": "ok",
     "timestamp": 1678153149974,
     "user": {
      "displayName": "Keila Vasthi Cortés Martínez",
      "userId": "16319750686447703617"
     },
     "user_tz": 360
    },
    "id": "hltvuveB2ouC",
    "outputId": "9e2999be-79dc-456d-f70c-a43a3626767f"
   },
   "outputs": [
    {
     "name": "stdout",
     "output_type": "stream",
     "text": [
      "initial_date 2023-03-07 19:28:54.643532\n"
     ]
    }
   ],
   "source": [
    "ini_time_for_now = datetime.now()\n",
    " \n",
    "# printing initial_date\n",
    "print (\"initial_date\", str(ini_time_for_now))\n",
    " \n",
    "# Calculating future dates\n",
    "# for two years\n",
    "future_date_after_2yrs = ini_time_for_now + \\\n",
    "                        timedelta(days = 730)\n",
    " \n",
    "future_date_after_2days = ini_time_for_now + \\\n",
    "                         timedelta(days = 2)"
   ]
  },
  {
   "cell_type": "code",
   "execution_count": 152,
   "metadata": {},
   "outputs": [
    {
     "data": {
      "text/plain": [
       "1169"
      ]
     },
     "execution_count": 152,
     "metadata": {},
     "output_type": "execute_result"
    }
   ],
   "source": [
    "max(days)"
   ]
  },
  {
   "cell_type": "code",
   "execution_count": 153,
   "metadata": {
    "colab": {
     "base_uri": "https://localhost:8080/",
     "height": 172
    },
    "executionInfo": {
     "elapsed": 311,
     "status": "error",
     "timestamp": 1678153786664,
     "user": {
      "displayName": "Keila Vasthi Cortés Martínez",
      "userId": "16319750686447703617"
     },
     "user_tz": 360
    },
    "id": "2sb3-UU_TfHB",
    "outputId": "6ba5b7c4-c19a-4d74-b978-5b2103e46649"
   },
   "outputs": [],
   "source": [
    "for i in range(len(days)):\n",
    " pred_days = day_zero + timedelta(days=i)"
   ]
  },
  {
   "cell_type": "code",
   "execution_count": 154,
   "metadata": {},
   "outputs": [
    {
     "data": {
      "text/plain": [
       "datetime.datetime(2023, 4, 5, 0, 0)"
      ]
     },
     "execution_count": 154,
     "metadata": {},
     "output_type": "execute_result"
    }
   ],
   "source": [
    "pred_days"
   ]
  },
  {
   "cell_type": "code",
   "execution_count": 155,
   "metadata": {
    "id": "GrWmvxrYTmub"
   },
   "outputs": [],
   "source": [
    "gompertz_pred = a * np.exp(-b * np.exp(-c * pred_x))"
   ]
  },
  {
   "cell_type": "code",
   "execution_count": 156,
   "metadata": {},
   "outputs": [
    {
     "data": {
      "text/plain": [
       "datetime.datetime(2023, 4, 5, 0, 0)"
      ]
     },
     "execution_count": 156,
     "metadata": {},
     "output_type": "execute_result"
    }
   ],
   "source": [
    "pred_days"
   ]
  },
  {
   "cell_type": "code",
   "execution_count": 186,
   "metadata": {
    "colab": {
     "base_uri": "https://localhost:8080/",
     "height": 614
    },
    "executionInfo": {
     "elapsed": 584,
     "status": "error",
     "timestamp": 1678153203779,
     "user": {
      "displayName": "Keila Vasthi Cortés Martínez",
      "userId": "16319750686447703617"
     },
     "user_tz": 360
    },
    "id": "_atCVe0LMR4e",
    "outputId": "17927c57-5551-4f7b-8448-9752909778d6",
    "scrolled": false
   },
   "outputs": [
    {
     "data": {
      "image/png": "[encoded data removed]",
      "text/plain": [
       "<Figure size 1000x600 with 1 Axes>"
      ]
     },
     "metadata": {},
     "output_type": "display_data"
    }
   ],
   "source": [
    "# graficar los resultados\n",
    "fig, ax = plt.subplots(figsize=(10,6))\n",
    "ax.plot(day_since, ydata, \"o\", label=\"Datos Reales\")\n",
    "ax.set_ylabel(\"Número de casos confirmados\")\n",
    "ax.legend()\n",
    "ax.plot(pred_x, gompertz_pred , \"o\", label=\"Predicción\")#* seir_model(result.x[:3])\n",
    "ax.set_xlabel(\"Fecha\")\n",
    "plt.show()"
   ]
  },
  {
   "cell_type": "code",
   "execution_count": 158,
   "metadata": {},
   "outputs": [],
   "source": [
    "pred_days_v =np.repeat(pred_days_v, [len(seir_model(result.x[:3]))], axis=0)"
   ]
  },
  {
   "cell_type": "code",
   "execution_count": 159,
   "metadata": {},
   "outputs": [
    {
     "data": {
      "text/plain": [
       "1481544000"
      ]
     },
     "execution_count": 159,
     "metadata": {},
     "output_type": "execute_result"
    }
   ],
   "source": [
    "len(pred_days_v)"
   ]
  },
  {
   "cell_type": "code",
   "execution_count": 182,
   "metadata": {},
   "outputs": [
    {
     "data": {
      "text/plain": [
       "1170"
      ]
     },
     "execution_count": 182,
     "metadata": {},
     "output_type": "execute_result"
    }
   ],
   "source": [
    "#str(pred_days_v)\n",
    "len(gompertz_pred)\n",
    "#len(pred_x)"
   ]
  },
  {
   "cell_type": "code",
   "execution_count": null,
   "metadata": {},
   "outputs": [],
   "source": [
    "\n"
   ]
  }
 ],
 "metadata": {
  "colab": {
   "provenance": [
    {
     "file_id": "1-3EEpAI_wewvQTfeZ9MhVj3esuUUcoE_",
     "timestamp": 1678154078936
    }
   ]
  },
  "kernelspec": {
   "display_name": "Python 3 (ipykernel)",
   "language": "python",
   "name": "python3"
  },
  "language_info": {
   "codemirror_mode": {
    "name": "ipython",
    "version": 3
   },
   "file_extension": ".py",
   "mimetype": "text/x-python",
   "name": "python",
   "nbconvert_exporter": "python",
   "pygments_lexer": "ipython3",
   "version": "3.9.13"
  }
 },
 "nbformat": 4,
 "nbformat_minor": 1
}
